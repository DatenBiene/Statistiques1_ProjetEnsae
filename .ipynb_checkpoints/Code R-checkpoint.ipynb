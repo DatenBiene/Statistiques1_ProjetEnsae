{
 "cells": [
  {
   "cell_type": "markdown",
   "metadata": {},
   "source": [
    "# Comparaison d’´echantillons et tests multiples -- Code R\n"
   ]
  },
  {
   "cell_type": "markdown",
   "metadata": {},
   "source": [
    "# Coucou je m'appelel Madeleine "
   ]
  },
  {
   "cell_type": "markdown",
   "metadata": {},
   "source": [
    "## 3 - Test non paramétrique "
   ]
  },
  {
   "cell_type": "markdown",
   "metadata": {},
   "source": [
    "![title](Consignes-Exo3.png)"
   ]
  },
  {
   "cell_type": "code",
   "execution_count": 73,
   "metadata": {},
   "outputs": [],
   "source": [
    "get_Ranked_R1<-function(x,y){## Fonction dans laquelle on met deux vecteurs et on a la somme des rangs\n",
    "    m=length(x)+length(y)\n",
    "    df_1<-data.frame(data=x,type=1)\n",
    "    df_2<-data.frame(data=y,type=0)\n",
    "    df<-rbind(df_1,df_2)\n",
    "    or<-df[order(df$data),]\n",
    "    return(sum((or$type==1)*(1:m)))\n",
    "}    "
   ]
  },
  {
   "cell_type": "code",
   "execution_count": 74,
   "metadata": {},
   "outputs": [],
   "source": [
    "get_Quantile_empirique<-function(x,alpha){\n",
    "    rank=floor(length(x)*alpha)+1\n",
    "    return(x[order(x)][rank])\n",
    "}"
   ]
  },
  {
   "cell_type": "code",
   "execution_count": 75,
   "metadata": {},
   "outputs": [],
   "source": [
    "estim_quantil_R1<-function(n1,n2,alpha,m){\n",
    "    x<-c()\n",
    "    for (i in 1:m) {\n",
    "        y1<-runif(n1,0,1)\n",
    "        y2<-runif(n2,0,1)\n",
    "        x<-c(x,get_Ranked_R1(y1,y2))\n",
    "    }\n",
    "    return(get_Quantile_empirique(x,alpha))\n",
    "}"
   ]
  },
  {
   "cell_type": "code",
   "execution_count": 76,
   "metadata": {
    "scrolled": true
   },
   "outputs": [
    {
     "data": {
      "text/html": [
       "9445"
      ],
      "text/latex": [
       "9445"
      ],
      "text/markdown": [
       "9445"
      ],
      "text/plain": [
       "[1] 9445"
      ]
     },
     "metadata": {},
     "output_type": "display_data"
    }
   ],
   "source": [
    "estim_quantil_R1(100,100,0.05,100)"
   ]
  },
  {
   "cell_type": "code",
   "execution_count": 77,
   "metadata": {},
   "outputs": [],
   "source": [
    "evolE<- function(x){              ##evolution de l'estimateur \n",
    "  return(cumsum(x)/(1:length(x)))\n",
    "}\n",
    "\n",
    "evolIC <- function(x, delta, level) {  ## x<-echantillon de l'estimateur et delta=evolution de l'estimateur\n",
    "  n <- length(x)\n",
    "  s2 <- (cumsum(x^2) - (1:n) * (delta)^2)/(0:(n - 1)) \n",
    "  IC <- qnorm(0.5 * (level + 1)) * sqrt(s2/(1:n))     ##calcul de q* racindeVar \n",
    "  return(data.frame(var = s2, born_inf_IC = delta - IC,born_sup_IC = delta + IC))\n",
    "}"
   ]
  },
  {
   "cell_type": "code",
   "execution_count": 78,
   "metadata": {
    "collapsed": true
   },
   "outputs": [],
   "source": [
    "MC <- function(y,lev) {   ##Methode de monte carlo classique\n",
    "  a<-evolE(y)        ## on recupere l'evolution de l'estimateur\n",
    "  b<-evolIC(y,a,lev) ## on recupere l'evolution de l'intervalle de confiance\n",
    "  n<-length(y)\n",
    "  par(mfrow=c(1,1))\n",
    "  plot(1:n, a, type = \"l\", lwd = 2, col = \"violetred3\",main = \"Evolution de l'estimation\", ylim = c(-0.2,0.6), xlab = \"n\",ylab=\"y\")\n",
    "  lines(2:n, b$born_inf_IC[-1], col = \"sienna2\", lwd = 2)\n",
    "  lines(2:n, b$born_sup_IC[-1], col = \"sienna2\", lwd = 2)\n",
    "  legend(\"topright\", c(\"Intervalle de confiance\", \"estimateur\"), lwd = c(2, 1),\n",
    "         col = c(\"sienna2\", \"violetred3\"), inset = 0.05, bg = \"gray95\",\n",
    "         box.lty = 0)\n",
    "  return(data.frame(value=a[n],b[n,]))\n",
    "}"
   ]
  },
  {
   "cell_type": "code",
   "execution_count": 79,
   "metadata": {
    "collapsed": true
   },
   "outputs": [],
   "source": [
    "tester_quantil_empirique<-function(n1,n2,mq,mmc,alpha){\n",
    "    \n",
    "    q_emp<-estim_quantil_R1(n1,n2,alpha,mq)\n",
    "    x<-c()\n",
    "    for (i in 1:mmc){\n",
    "        y1<-runif(n1,0,1)\n",
    "        y2<-runif(n2,0,1)\n",
    "        x<-c(x,1*(get_Ranked_R1(y1,y2)<=q_emp))\n",
    "    }\n",
    "       \n",
    "    MC(x,0.5)\n",
    "    \n",
    "}"
   ]
  },
  {
   "cell_type": "code",
   "execution_count": 85,
   "metadata": {},
   "outputs": [
    {
     "data": {
      "text/html": [
       "<table>\n",
       "<thead><tr><th></th><th scope=col>value</th><th scope=col>var</th><th scope=col>born_inf_IC</th><th scope=col>born_sup_IC</th></tr></thead>\n",
       "<tbody>\n",
       "\t<tr><th scope=row>100</th><td>0.04      </td><td>0.03878788</td><td>0.02671617</td><td>0.05328383</td></tr>\n",
       "</tbody>\n",
       "</table>\n"
      ],
      "text/latex": [
       "\\begin{tabular}{r|llll}\n",
       "  & value & var & born\\_inf\\_IC & born\\_sup\\_IC\\\\\n",
       "\\hline\n",
       "\t100 & 0.04       & 0.03878788 & 0.02671617 & 0.05328383\\\\\n",
       "\\end{tabular}\n"
      ],
      "text/markdown": [
       "\n",
       "| <!--/--> | value | var | born_inf_IC | born_sup_IC | \n",
       "|---|\n",
       "| 100 | 0.04       | 0.03878788 | 0.02671617 | 0.05328383 | \n",
       "\n",
       "\n"
      ],
      "text/plain": [
       "    value var        born_inf_IC born_sup_IC\n",
       "100 0.04  0.03878788 0.02671617  0.05328383 "
      ]
     },
     "metadata": {},
     "output_type": "display_data"
    },
    {
     "data": {
      "image/png": "[encoded data removed]",
      "text/plain": [
       "Plot with title \"Evolution de l'estimation\""
      ]
     },
     "metadata": {},
     "output_type": "display_data"
    }
   ],
   "source": [
    "tester_quantil_empirique(100,100,1000,100,0.05)"
   ]
  },
  {
   "cell_type": "markdown",
   "metadata": {},
   "source": [
    "### 3 - a)"
   ]
  },
  {
   "cell_type": "markdown",
   "metadata": {},
   "source": [
    "On veut : \n",
    "\n",
    "Penser avec Normales générales puis avec les données\n",
    "\n",
    "-Faire une fonction qui plot la fonction de répartition empirique.\n",
    "(-Comparer la fonction de répartition empirique enfonction de différent N ? )\n",
    "-Evolution de q en fonction de N"
   ]
  },
  {
   "cell_type": "code",
   "execution_count": 4,
   "metadata": {
    "collapsed": true
   },
   "outputs": [],
   "source": [
    "evolE<- function(x){              #fonction qui returne un vecteur avec l'évolution de notre estimateur de MC\n",
    "  return(cumsum(x)/(1:length(x)))\n",
    "}\n",
    "\n",
    "evolIC <- function(x, delta, level) {  ## x<-echantillon de l'estimateur et delta=evolution de l'estimateur\n",
    "  n <- length(x)\n",
    "  s2 <- (cumsum(x^2) - (1:n) * (delta)^2)/(0:(n - 1)) \n",
    "  IC <- qnorm(0.5 * (level + 1)) * sqrt(s2/(1:n))     ##calcul de q* racindeVar \n",
    "  return(data.frame(var = s2, born_inf_IC = delta - IC,born_sup_IC = delta + IC))\n",
    "}\n",
    "\n",
    "MC <- function(y,lev) {   ##Methode de monte carlo classique\n",
    "  a<-evolE(y)        ## on recupere l'evolution de l'estimateur\n",
    "  b<-evolIC(y,a,lev) ## on recupere l'evolution de l'intervalle de confiance\n",
    "  n<-length(y)\n",
    "  par(mfrow=c(1,1))\n",
    "  plot(1:n, a, type = \"l\", lwd = 2, col = \"violetred3\",main = \"Evolution de l'estimation\", ylim = c(-0.2,0.6), xlab = \"n\",ylab=\"y\")\n",
    "  lines(2:n, b$born_inf_IC[-1], col = \"sienna2\", lwd = 2)\n",
    "  lines(2:n, b$born_sup_IC[-1], col = \"sienna2\", lwd = 2)\n",
    "  legend(\"topright\", c(\"Intervalle de confiance\", \"estimateur\"), lwd = c(2, 1),\n",
    "         col = c(\"sienna2\", \"violetred3\"), inset = 0.05, bg = \"gray95\",\n",
    "         box.lty = 0)\n",
    "  return(data.frame(value=a[n],b[n,]))\n",
    "}\n"
   ]
  },
  {
   "cell_type": "markdown",
   "metadata": {},
   "source": [
    "## Aide -- Ancien code à moi qui peut nous être utile \n"
   ]
  },
  {
   "cell_type": "code",
   "execution_count": 5,
   "metadata": {
    "collapsed": true
   },
   "outputs": [],
   "source": [
    "##Partie 1\n",
    "\n",
    "ft1 <-function(x,y) {  #f tilde 1\n",
    "  return(exp(-1/2*((x^2)/4+y^2))*(abs(y)<=1))\n",
    "} \n",
    "\n",
    "ft2 <- function(x,y) {  #f tilde 2\n",
    "  return( ((cos(x)^2)+0.5*(sin(3*y)^2)*(cos(x)^4))*exp(-1/2*((x^2)/4+y^2)) )\n",
    "}\n",
    "\n",
    "M1<-4*pi      #Les constantes utilisees pour l'algorithme de rejet\n",
    "M2<-1.5*M1\n",
    "\n",
    "g<- function(x,y){ #Le g qu'on utilise dans l'algorithme de rejet pour f1 et f2\n",
    "  return( 1/(4*pi)*exp((-1/2)*(x^2/4+y^2)) ) #Equivalent : dnorm(x,0,2)*dnorm(y,0,1)\n",
    "}\n",
    "\n",
    "Mu1<-4*sqrt(2*pi)\n",
    "gu<- function(x,y){\n",
    "  return( 1/(4*sqrt(2*pi))*exp((-1/2)*(x^2/4))*(abs(y)<1) )\n",
    "}\n",
    "c1 <- 1/(4*pi*(pnorm(1)-pnorm(-1))) #Constante de normalisation : f1=c1*ft1\n",
    "\n",
    "f1<-function(x,y){\n",
    "  return(c1*ft1(x,y))\n",
    "}\n",
    "\n",
    "dmarginale2f1<- function(x){ #La marginale de f1 selon la deuxieme variable\n",
    "  return(exp(-1/2*(x^2))/(sqrt(2*pi)*(pnorm(1)-pnorm(-1)))*(abs(x)<=1))\n",
    "}\n",
    "\n",
    "##Partie 2\n",
    "\n",
    "h1<- function(x,y) {    # fonction dont on cherche l'esperence par \n",
    "  return(((exp(x)+exp(y))>=5)*1)\n",
    "}\n",
    "\n",
    "h2 <- function(x,y) {   # fonction dont on cherche l'esperence deuxieme cas \n",
    "  return( cos(x*y)*sin(x)*exp(sin(x+y)) ) }\n",
    "\n",
    "\n",
    "##Partie3\n",
    "\n",
    "dmarginale2fR<- function(x,M){ \n",
    "  #La marginale des variables rejetees selon la deuxieme variable (Z2) pour normale \n",
    "  return((M*dnorm(x,0,1)-dmarginale2f1(x))/(M-1))\n",
    "}\n",
    "\n",
    "\n",
    "dmarginale2fRu<- function(x,M){ \n",
    "#La marginale des variables rejetees selon la deuxieme variable\n",
    "  return((M*dunif(x,-1,1)-dmarginale2f1(x))/(M-1))\n",
    "}\n",
    "\n",
    "c3<-1/(4*pi*(pnorm(1)-pnorm(-1)+0.5)) \n",
    "\n",
    "f3 <-function(x,y) {  #f tilde 3 fois sa constante de normalisation\n",
    "  return(c3*exp(-1/2*((x^2)/4+y^2))*((abs(y)<=1)+0.5))\n",
    "} \n",
    "\n",
    "\n",
    "\n",
    "##Partie4\n",
    "\n",
    "alphaMH <- function(f,g,x1,x2,y1,y2){\n",
    "  return(min(1,(f(y1,y2)*g(x1,x2))/(f(x1,x2)*g(y1,y2))))\n",
    "}\n",
    "\n",
    "##General\n",
    "\n",
    "estimVar <- function(x) { #Variance empirique\n",
    "  return(mean(x^2)-(mean(x)^2))\n",
    "}\n",
    "\n",
    "estimVar1 <- function(x) { #Nous donne un vecteur pour voir l'evolution de la variance empirique\n",
    "  return((x-cumsum(x)/1:n)^2)\n",
    "}\n",
    "\n",
    "IC <- function(n,x,s) { #Intervale de confiance de niveau s\n",
    "  return( c(mean(x)-estimVar(x)/sqrt(n)*qnorm(s),mean(x)+estimVar(x)/sqrt(n)*qnorm(s)))\n",
    "}\n",
    "\n",
    "evolE<- function(x){              ##evolution de l'estimateur \n",
    "  return(cumsum(x)/(1:length(x)))\n",
    "}\n",
    "\n",
    "evolIC <- function(x, delta, level) {  ## x<-echantillon de l'estimateur et delta=evolution de l'estimateur\n",
    "  n <- length(x)\n",
    "  s2 <- (cumsum(x^2) - (1:n) * (delta)^2)/(0:(n - 1)) \n",
    "  IC <- qnorm(0.5 * (level + 1)) * sqrt(s2/(1:n))     ##calcul de q* racindeVar \n",
    "  return(data.frame(var = s2, born_inf_IC = delta - IC,born_sup_IC = delta + IC))\n",
    "}"
   ]
  },
  {
   "cell_type": "code",
   "execution_count": 6,
   "metadata": {},
   "outputs": [
    {
     "data": {
      "text/plain": [
       "   user  system elapsed \n",
       "   0.61    0.00    0.65 "
      ]
     },
     "metadata": {},
     "output_type": "display_data"
    },
    {
     "data": {
      "image/png": "[encoded data removed]",
      "text/plain": [
       "Plot with title \"..par X2\""
      ]
     },
     "metadata": {},
     "output_type": "display_data"
    }
   ],
   "source": [
    "N<-10000 #Nombre de simulation que l'on voudra \n",
    "\n",
    "rejet_g <- function(n,M,f) { #Algorithme de rejet fixe au g definit dans les donnees \n",
    "  #n le nombre de simulation ayant pour densite f que l'on veut\n",
    "  #M la constante telle que f<Mg\n",
    "  A <- matrix(0, nrow =n, ncol = 2)\n",
    "  # matrice dont chaque ligne contient une realisation d'echantillion suivant f\n",
    "  for (i in 1:n) {\n",
    "    u <- runif(1)\n",
    "    A[i,1] <- rnorm(1,0,2)\n",
    "    A[i,2] <- rnorm(1,0,1)\n",
    "    while (u>f(A[i,1],A[i,2])/(M*g(A[i,1],A[i,2]))) { \n",
    "      u <- runif(1)\n",
    "      A[i,1] <- rnorm(1,0,2)\n",
    "      A[i,2] <- rnorm(1,0,1)\n",
    "    }\n",
    "  }\n",
    "  return(A)     \n",
    "}\n",
    "\n",
    "X<- rejet_g(N,M1,ft1) #Notre vecteur avec N simulations suivant f\n",
    "\n",
    "ptm <- proc.time() ; x <- rejet_g(N,M1,ft1) ; proc.time() - ptm\n",
    "\n",
    "\n",
    "par(mfrow=c(1,2),oma = c(0, 0, 2, 0))\n",
    "t <- seq(-10, 10, 0.01)\n",
    "\n",
    "hist(X[,1], freq = FALSE, main = \"...par X1\",xlab = \"x1\",ylab = \"Fréquences\",\n",
    "     ylim=c(0,0.3),xlim=c(-5,5),col=\"lightcyan\",border=\"dodgerblue3\")\n",
    "lines(t, dnorm(t,0,2), col = \"mediumseagreen\", lwd = 3)\n",
    "\n",
    "hist(X[,2], freq = FALSE, main = \"..par X2\",xlab = \"x2\",ylab = \"Fréquences\",\n",
    "     ylim=c(0,1),col=\"lightcyan\",border=\"dodgerblue3\")\n",
    "lines(t, dmarginale2f1(t), col = \"mediumseagreen\", lwd = 3)\n",
    "mtext(\"Comparaison densites marginales empiriques et theoriques de f1...\",outer = TRUE,  cex = 1.5)\n"
   ]
  },
  {
   "cell_type": "code",
   "execution_count": 7,
   "metadata": {},
   "outputs": [
    {
     "data": {
      "text/plain": [
       "   user  system elapsed \n",
       "   0.02    0.01    0.03 "
      ]
     },
     "metadata": {},
     "output_type": "display_data"
    },
    {
     "data": {
      "image/png": "[encoded data removed]",
      "text/plain": [
       "Plot with title \"..par X2\""
      ]
     },
     "metadata": {},
     "output_type": "display_data"
    }
   ],
   "source": [
    "N<-10000\n",
    "rejet_vect_gu_f <- function(n) {\n",
    "  #Algorithme de rejet vectorise pour f et g donc la deuxieme v.a. est une unifrome\n",
    "  V1 <- c() # Echantillons de sortie\n",
    "  V2 <- c()\n",
    "  m <- n # Nombre de realisations restantes a obtenir\n",
    "  \n",
    "  while (m > 0) {\n",
    "    k<-m%/%(c1*Mu1)+1\n",
    "    y1 <- rnorm(k, 0, 2)\n",
    "    y2 <- runif(k,-1,1)\n",
    "    u <- runif(k)\n",
    "    \n",
    "    condi<-(u <=ft1(y1,y2)/(Mu1*gu(y1,y2)))\n",
    "    x1 <- (condi)*y1\n",
    "    x2 <- (condi)*y2\n",
    "    \n",
    "    V1 <- c(V1, x1[which(x1 != 0)])\n",
    "    V2 <- c(V2, x2[which(x2 != 0)])\n",
    "    m <- n - length(V1)\n",
    "  }\n",
    "  return(list(V1[1:n],V2[1:n]))\n",
    "}\n",
    "\n",
    "X<- rejet_vect_gu_f(N) \n",
    "#Notre vecteur avec N simulations suivant f\n",
    "\n",
    "ptm <- proc.time() ; x <- rejet_vect_gu_f(N) ; proc.time() - ptm\n",
    "\n",
    "par(mfrow=c(1,2),oma = c(0, 0, 2, 0))\n",
    "t <- seq(-10, 10, 0.01)\n",
    "\n",
    "hist(X[[1]], freq = FALSE, main = \"...par X1\",xlab = \"x1\",ylab = \"Frequences\",\n",
    "     ylim=c(0,0.3),xlim=c(-5,5),col=\"lightyellow\",border=\"indianred1\")\n",
    "lines(t, dnorm(t,0,2), col = \"darkgoldenrod2\", lwd = 3)\n",
    "\n",
    "hist(X[[2]], freq = FALSE, main = \"..par X2\",xlab = \"x2\",ylab = \"Frequences\",\n",
    "     ylim=c(0,1),col=\"lightyellow\",border=\"indianred1\")\n",
    "lines(t, dmarginale2f1(t), col = \"darkgoldenrod2\", lwd = 3)\n",
    "mtext(\"Comparaison densites marginales empiriques et theoriques (vectorise) de f1...\",outer = TRUE,  cex = 1.5)\n",
    "\n"
   ]
  },
  {
   "cell_type": "code",
   "execution_count": 8,
   "metadata": {},
   "outputs": [
    {
     "data": {
      "text/html": [
       "<table>\n",
       "<thead><tr><th></th><th scope=col>value</th><th scope=col>var</th><th scope=col>born_inf_IC</th><th scope=col>born_sup_IC</th></tr></thead>\n",
       "<tbody>\n",
       "\t<tr><th scope=row>10000</th><td>0.2546   </td><td>0.1897978</td><td>0.2460613</td><td>0.2631387</td></tr>\n",
       "</tbody>\n",
       "</table>\n"
      ],
      "text/latex": [
       "\\begin{tabular}{r|llll}\n",
       "  & value & var & born\\_inf\\_IC & born\\_sup\\_IC\\\\\n",
       "\\hline\n",
       "\t10000 & 0.2546    & 0.1897978 & 0.2460613 & 0.2631387\\\\\n",
       "\\end{tabular}\n"
      ],
      "text/markdown": [
       "\n",
       "| <!--/--> | value | var | born_inf_IC | born_sup_IC | \n",
       "|---|\n",
       "| 10000 | 0.2546    | 0.1897978 | 0.2460613 | 0.2631387 | \n",
       "\n",
       "\n"
      ],
      "text/plain": [
       "      value  var       born_inf_IC born_sup_IC\n",
       "10000 0.2546 0.1897978 0.2460613   0.2631387  "
      ]
     },
     "metadata": {},
     "output_type": "display_data"
    },
    {
     "data": {
      "image/png": "[encoded data removed]",
      "text/plain": [
       "Plot with title \"Evolution de l'estimation\""
      ]
     },
     "metadata": {},
     "output_type": "display_data"
    }
   ],
   "source": [
    "n<-10000\n",
    "lev<-0.95 ##niveau de l'intervalle de confiance\n",
    "x<-rejet_g(n,M1,ft1) ## on applique l'algorithme de rejet pour recuperer des echantillons suivant la loi de f1\n",
    "\n",
    "\n",
    "## fonction qui retourne les caracteristiques de l'estimateur + graphe\n",
    "MC <- function(y,lev) {   ##Methode de monte carlo classique\n",
    "  a<-evolE(y)        ## on recupere l'evolution de l'estimateur\n",
    "  b<-evolIC(y,a,lev) ## on recupere l'evolution de l'intervalle de confiance\n",
    "  n<-length(y)\n",
    "  par(mfrow=c(1,1))\n",
    "  plot(1:n, a, type = \"l\", lwd = 2, col = \"violetred3\",main = \"Evolution de l'estimation\", ylim = c(-0.2,0.6), xlab = \"n\",ylab=\"y\")\n",
    "  lines(2:n, b$born_inf_IC[-1], col = \"sienna2\", lwd = 2)\n",
    "  lines(2:n, b$born_sup_IC[-1], col = \"sienna2\", lwd = 2)\n",
    "  legend(\"topright\", c(\"Intervalle de confiance\", \"estimateur\"), lwd = c(2, 1),\n",
    "         col = c(\"sienna2\", \"violetred3\"), inset = 0.05, bg = \"gray95\",\n",
    "         box.lty = 0)\n",
    "  return(data.frame(value=a[n],b[n,]))\n",
    "}\n",
    "\n",
    "\n",
    "## la fonction \"transfo\" permet de d'avoir des simulations de h(X1,X2) ou (X1,X2) a pour densite f1\n",
    "transfo<- function(x,h){   ## on applique la fonction h sur 2 vecteurs\n",
    "  return(h(x[,1],x[,2]))  ## on applique la fonction h a des vecteurs \n",
    "}\n",
    "\n",
    "h1<- function(x,y) {    ## fonction dont on va chercher a estimer l'esperence\n",
    "  return(((exp(x)+exp(y))>=5)*1)\n",
    "}\n",
    "\n",
    "y0<-transfo(x,h1)\n",
    "MC(y0,lev)\n"
   ]
  },
  {
   "cell_type": "code",
   "execution_count": 9,
   "metadata": {},
   "outputs": [
    {
     "data": {
      "text/html": [
       "1.68118201309131e-05"
      ],
      "text/latex": [
       "1.68118201309131e-05"
      ],
      "text/markdown": [
       "1.68118201309131e-05"
      ],
      "text/plain": [
       "[1] 1.681182e-05"
      ]
     },
     "metadata": {},
     "output_type": "display_data"
    }
   ],
   "source": [
    "m<-3051\n",
    "1-(0.95)^(1/m)"
   ]
  },
  {
   "cell_type": "code",
   "execution_count": null,
   "metadata": {
    "collapsed": true
   },
   "outputs": [],
   "source": []
  }
 ],
 "metadata": {
  "kernelspec": {
   "display_name": "R",
   "language": "R",
   "name": "ir"
  },
  "language_info": {
   "codemirror_mode": "r",
   "file_extension": ".r",
   "mimetype": "text/x-r-source",
   "name": "R",
   "pygments_lexer": "r",
   "version": "3.3.2"
  },
  "varInspector": {
   "cols": {
    "lenName": 16,
    "lenType": 16,
    "lenVar": 40
   },
   "kernels_config": {
    "python": {
     "delete_cmd_postfix": "",
     "delete_cmd_prefix": "del ",
     "library": "var_list.py",
     "varRefreshCmd": "print(var_dic_list())"
    },
    "r": {
     "delete_cmd_postfix": ") ",
     "delete_cmd_prefix": "rm(",
     "library": "var_list.r",
     "varRefreshCmd": "cat(var_dic_list()) "
    }
   },
   "types_to_exclude": [
    "module",
    "function",
    "builtin_function_or_method",
    "instance",
    "_Feature"
   ],
   "window_display": false
  }
 },
 "nbformat": 4,
 "nbformat_minor": 2
}
