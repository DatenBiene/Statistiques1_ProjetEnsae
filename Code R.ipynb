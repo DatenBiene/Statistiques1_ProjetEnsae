{
 "cells": [
  {
   "cell_type": "markdown",
   "metadata": {},
   "source": [
    "# Comparaison d’´echantillons et tests multiples -- Code R\n"
   ]
  },
  {
   "cell_type": "markdown",
   "metadata": {},
   "source": [
    "## 0 - Généralités sur nos Données "
   ]
  },
  {
   "cell_type": "markdown",
   "metadata": {},
   "source": [
    "## 0 - a) ratWeight"
   ]
  },
  {
   "cell_type": "code",
   "execution_count": 1,
   "metadata": {
    "collapsed": true
   },
   "outputs": [],
   "source": [
    "## On importe les données\n",
    "ratWeight <- read.csv(file=\"ratWeight_sujet3.csv\", header=TRUE, sep=\",\")"
   ]
  },
  {
   "cell_type": "code",
   "execution_count": 2,
   "metadata": {
    "scrolled": true
   },
   "outputs": [
    {
     "data": {
      "text/html": [
       "<table>\n",
       "<thead><tr><th scope=col>id</th><th scope=col>week</th><th scope=col>weight</th><th scope=col>regime</th><th scope=col>gender</th><th scope=col>dosage</th></tr></thead>\n",
       "<tbody>\n",
       "\t<tr><td>B38602 </td><td>1      </td><td>236.1  </td><td>Control</td><td>Male   </td><td>11%    </td></tr>\n",
       "\t<tr><td>B38602 </td><td>2      </td><td>282.6  </td><td>Control</td><td>Male   </td><td>11%    </td></tr>\n",
       "\t<tr><td>B38602 </td><td>3      </td><td>336.0  </td><td>Control</td><td>Male   </td><td>11%    </td></tr>\n",
       "\t<tr><td>B38602 </td><td>4      </td><td>376.8  </td><td>Control</td><td>Male   </td><td>11%    </td></tr>\n",
       "\t<tr><td>B38602 </td><td>5      </td><td>403.9  </td><td>Control</td><td>Male   </td><td>11%    </td></tr>\n",
       "\t<tr><td>B38602 </td><td>6      </td><td>414.3  </td><td>Control</td><td>Male   </td><td>11%    </td></tr>\n",
       "</tbody>\n",
       "</table>\n"
      ],
      "text/latex": [
       "\\begin{tabular}{r|llllll}\n",
       " id & week & weight & regime & gender & dosage\\\\\n",
       "\\hline\n",
       "\t B38602  & 1       & 236.1   & Control & Male    & 11\\%  \\\\\n",
       "\t B38602  & 2       & 282.6   & Control & Male    & 11\\%  \\\\\n",
       "\t B38602  & 3       & 336.0   & Control & Male    & 11\\%  \\\\\n",
       "\t B38602  & 4       & 376.8   & Control & Male    & 11\\%  \\\\\n",
       "\t B38602  & 5       & 403.9   & Control & Male    & 11\\%  \\\\\n",
       "\t B38602  & 6       & 414.3   & Control & Male    & 11\\%  \\\\\n",
       "\\end{tabular}\n"
      ],
      "text/markdown": [
       "\n",
       "id | week | weight | regime | gender | dosage | \n",
       "|---|---|---|---|---|---|\n",
       "| B38602  | 1       | 236.1   | Control | Male    | 11%     | \n",
       "| B38602  | 2       | 282.6   | Control | Male    | 11%     | \n",
       "| B38602  | 3       | 336.0   | Control | Male    | 11%     | \n",
       "| B38602  | 4       | 376.8   | Control | Male    | 11%     | \n",
       "| B38602  | 5       | 403.9   | Control | Male    | 11%     | \n",
       "| B38602  | 6       | 414.3   | Control | Male    | 11%     | \n",
       "\n",
       "\n"
      ],
      "text/plain": [
       "  id     week weight regime  gender dosage\n",
       "1 B38602 1    236.1  Control Male   11%   \n",
       "2 B38602 2    282.6  Control Male   11%   \n",
       "3 B38602 3    336.0  Control Male   11%   \n",
       "4 B38602 4    376.8  Control Male   11%   \n",
       "5 B38602 5    403.9  Control Male   11%   \n",
       "6 B38602 6    414.3  Control Male   11%   "
      ]
     },
     "metadata": {},
     "output_type": "display_data"
    }
   ],
   "source": [
    "head(ratWeight)"
   ]
  },
  {
   "cell_type": "code",
   "execution_count": 3,
   "metadata": {},
   "outputs": [
    {
     "data": {
      "text/html": [
       "2235"
      ],
      "text/latex": [
       "2235"
      ],
      "text/markdown": [
       "2235"
      ],
      "text/plain": [
       "[1] 2235"
      ]
     },
     "metadata": {},
     "output_type": "display_data"
    }
   ],
   "source": [
    "## Nombre de lignes au total\n",
    "nrow(ratWeight)"
   ]
  },
  {
   "cell_type": "code",
   "execution_count": 4,
   "metadata": {},
   "outputs": [
    {
     "data": {
      "text/html": [
       "158"
      ],
      "text/latex": [
       "158"
      ],
      "text/markdown": [
       "158"
      ],
      "text/plain": [
       "[1] 158"
      ]
     },
     "metadata": {},
     "output_type": "display_data"
    }
   ],
   "source": [
    "## On sélectionne la 14ème semaine\n",
    "ratW14<-ratWeight[ratWeight$week==14,]\n",
    "nrow(ratW14)"
   ]
  },
  {
   "cell_type": "code",
   "execution_count": 5,
   "metadata": {
    "collapsed": true
   },
   "outputs": [],
   "source": [
    "X_new=ratW14[ratW14$regime == 'GMO',] ## Groupe sous OGM\n",
    "Y_new=ratW14[ratW14$regime == 'Control',] ## Groupe témoin"
   ]
  },
  {
   "cell_type": "code",
   "execution_count": 6,
   "metadata": {
    "collapsed": true
   },
   "outputs": [],
   "source": [
    "X=X_new$weight\n",
    "Y=Y_new$weight"
   ]
  },
  {
   "cell_type": "code",
   "execution_count": 7,
   "metadata": {
    "scrolled": true
   },
   "outputs": [
    {
     "data": {
      "text/html": [
       "79"
      ],
      "text/latex": [
       "79"
      ],
      "text/markdown": [
       "79"
      ],
      "text/plain": [
       "[1] 79"
      ]
     },
     "metadata": {},
     "output_type": "display_data"
    }
   ],
   "source": [
    "length(X)"
   ]
  },
  {
   "cell_type": "code",
   "execution_count": 8,
   "metadata": {
    "scrolled": true
   },
   "outputs": [
    {
     "data": {
      "text/html": [
       "79"
      ],
      "text/latex": [
       "79"
      ],
      "text/markdown": [
       "79"
      ],
      "text/plain": [
       "[1] 79"
      ]
     },
     "metadata": {},
     "output_type": "display_data"
    }
   ],
   "source": [
    "length(Y)"
   ]
  },
  {
   "cell_type": "code",
   "execution_count": null,
   "metadata": {
    "collapsed": true
   },
   "outputs": [],
   "source": []
  },
  {
   "cell_type": "markdown",
   "metadata": {},
   "source": [
    "## 0 - b) leucemie"
   ]
  },
  {
   "cell_type": "code",
   "execution_count": null,
   "metadata": {
    "collapsed": true
   },
   "outputs": [],
   "source": []
  },
  {
   "cell_type": "code",
   "execution_count": null,
   "metadata": {
    "collapsed": true
   },
   "outputs": [],
   "source": []
  },
  {
   "cell_type": "markdown",
   "metadata": {},
   "source": [
    "## 2 - Variance inconnue "
   ]
  },
  {
   "cell_type": "code",
   "execution_count": null,
   "metadata": {
    "collapsed": true
   },
   "outputs": [],
   "source": []
  },
  {
   "cell_type": "code",
   "execution_count": null,
   "metadata": {
    "collapsed": true
   },
   "outputs": [],
   "source": []
  },
  {
   "cell_type": "code",
   "execution_count": null,
   "metadata": {
    "collapsed": true
   },
   "outputs": [],
   "source": []
  },
  {
   "cell_type": "markdown",
   "metadata": {},
   "source": [
    "## 3 - Test non paramétrique "
   ]
  },
  {
   "cell_type": "markdown",
   "metadata": {},
   "source": [
    "![title](Consignes-Exo3.png)"
   ]
  },
  {
   "cell_type": "markdown",
   "metadata": {},
   "source": [
    "## 3 - a)"
   ]
  },
  {
   "cell_type": "code",
   "execution_count": 9,
   "metadata": {
    "collapsed": true
   },
   "outputs": [],
   "source": [
    "get_Ranked_R1<-function(x,y){\n",
    "## Fonction dans laquelle on met deux vecteurs x et y et on a la somme des rangs du premier dans le vecteur total (R1 de l'énoncé) \n",
    "    m=length(x)+length(y)\n",
    "    df_1<-data.frame(data=x,type=1)\n",
    "    df_2<-data.frame(data=y,type=0)\n",
    "    df<-rbind(df_1,df_2)\n",
    "    or<-df[order(df$data),]\n",
    "    return(sum((or$type==1)*(1:m)))\n",
    "}    "
   ]
  },
  {
   "cell_type": "markdown",
   "metadata": {},
   "source": [
    "Le $R_1$ de nos données est :"
   ]
  },
  {
   "cell_type": "code",
   "execution_count": 10,
   "metadata": {
    "scrolled": true
   },
   "outputs": [
    {
     "data": {
      "text/html": [
       "6311"
      ],
      "text/latex": [
       "6311"
      ],
      "text/markdown": [
       "6311"
      ],
      "text/plain": [
       "[1] 6311"
      ]
     },
     "metadata": {},
     "output_type": "display_data"
    }
   ],
   "source": [
    "get_Ranked_R1(X,Y)"
   ]
  },
  {
   "cell_type": "code",
   "execution_count": 11,
   "metadata": {
    "collapsed": true
   },
   "outputs": [],
   "source": [
    "get_Quantile_empirique<-function(x,alpha){\n",
    "## Fonction pour obternir le quantil empirique de niveau alpha de l'échantillon x\n",
    "    rank=floor(length(x)*alpha)+1\n",
    "    return(x[order(x)][rank])\n",
    "}"
   ]
  },
  {
   "cell_type": "code",
   "execution_count": 12,
   "metadata": {
    "collapsed": true
   },
   "outputs": [],
   "source": [
    "estim_quantil_R1<-function(n1,n2,alpha,m){\n",
    "## Estimation du quantil de niveau alpha de R1 \n",
    "## n1 le nombre d'échantillons dans le premier groupe, n2 pour le deuxième groupe\n",
    "## m le nombre de simulation de R1 que l'on souhaite faire pour approximer le quantil\n",
    "    x<-c()\n",
    "    for (i in 1:m) {\n",
    "        y1<-runif(n1,0,1)\n",
    "        y2<-runif(n2,0,1)\n",
    "        x<-c(x,get_Ranked_R1(y1,y2))\n",
    "    }\n",
    "    return(get_Quantile_empirique(x,alpha))\n",
    "}"
   ]
  },
  {
   "cell_type": "code",
   "execution_count": 13,
   "metadata": {
    "collapsed": true
   },
   "outputs": [],
   "source": [
    "evolE<- function(x){              \n",
    "##evolution estimateurde de Monte Carlo\n",
    "  return(cumsum(x)/(1:length(x)))\n",
    "}\n",
    "\n",
    "evolIC <- function(x, delta, level) {  \n",
    "##evolution interval de confiance de niveau estimateurde de Monte Carlo\n",
    "  n <- length(x)\n",
    "  s2 <- (cumsum(x^2) - (1:n) * (delta)^2)/(0:(n - 1)) \n",
    "  IC <- qnorm(0.5 * (level + 1)) * sqrt(s2/(1:n))     ##calcul de q* racindeVar \n",
    "  return(data.frame(var = s2, born_inf_IC = delta - IC,born_sup_IC = delta + IC))\n",
    "}\n"
   ]
  },
  {
   "cell_type": "code",
   "execution_count": 14,
   "metadata": {
    "collapsed": true
   },
   "outputs": [],
   "source": [
    "MC <- function(y,lev,constante) {   ##Methode de monte carlo classique\n",
    "  a<-evolE(y)        ## on recupere l'evolution de l'estimateur\n",
    "  b<-evolIC(y,a,lev) ## on recupere l'evolution de l'intervalle de confiance\n",
    "  n<-length(y)\n",
    "  par(mfrow=c(1,1))\n",
    "  plot(1:n, a, type = \"l\", lwd = 2, col = \"darkorange1\",main = \"Evolution de l'estimation de Monte Carlo\", ylim = c(-0.2,min(c(max(b$born_sup_IC[-1])+0.3),10)), xlab = \"n\",ylab=\"y\")\n",
    "  lines(2:n, b$born_inf_IC[-1], col = \"deepskyblue3\", lwd = 2)\n",
    "  lines(2:n, b$born_sup_IC[-1], col = \"deepskyblue3\", lwd = 2)\n",
    "  lines(1:n, rep(constante,n), col = \"deeppink\", lwd = 2)\n",
    "  legend(\"topright\", c(\"Intervalle de confiance\", \"estimateur de Monte Carlo\",constante), lwd = c(3, 1),\n",
    "         col = c(\"deepskyblue3\", \"darkorange1\",\"deeppink\"), inset = 0.05, bg = \"gray95\",\n",
    "         box.lty = 0)\n",
    "  return(data.frame(valeur_estimateur_MC=a[n],b[n,]))\n",
    "}"
   ]
  },
  {
   "cell_type": "code",
   "execution_count": 15,
   "metadata": {
    "collapsed": true
   },
   "outputs": [],
   "source": [
    "tester_quantil_empirique<-function(n1,n2,mq,mmc,alpha){\n",
    "    \n",
    "    q_emp<-estim_quantil_R1(n1,n2,alpha,mq)\n",
    "    print(paste0(\"Le quantil empirique est : \" , q_emp))\n",
    "    x<-c()\n",
    "    for (i in 1:mmc){\n",
    "        y1<-runif(n1,0,1)\n",
    "        y2<-runif(n2,0,1)\n",
    "        x<-c(x,1*(get_Ranked_R1(y1,y2)<=q_emp))\n",
    "    }\n",
    "       \n",
    "    MC(x,0.5,alpha)\n",
    "    \n",
    "}"
   ]
  },
  {
   "cell_type": "code",
   "execution_count": 16,
   "metadata": {},
   "outputs": [
    {
     "name": "stdout",
     "output_type": "stream",
     "text": [
      "[1] \"Le quantil empirique est : 5744\"\n"
     ]
    },
    {
     "data": {
      "text/html": [
       "<table>\n",
       "<thead><tr><th></th><th scope=col>valeur_estimateur_MC</th><th scope=col>var</th><th scope=col>born_inf_IC</th><th scope=col>born_sup_IC</th></tr></thead>\n",
       "<tbody>\n",
       "\t<tr><th scope=row>1000</th><td>0.027     </td><td>0.0262973 </td><td>0.02354116</td><td>0.03045884</td></tr>\n",
       "</tbody>\n",
       "</table>\n"
      ],
      "text/latex": [
       "\\begin{tabular}{r|llll}\n",
       "  & valeur\\_estimateur\\_MC & var & born\\_inf\\_IC & born\\_sup\\_IC\\\\\n",
       "\\hline\n",
       "\t1000 & 0.027      & 0.0262973  & 0.02354116 & 0.03045884\\\\\n",
       "\\end{tabular}\n"
      ],
      "text/markdown": [
       "\n",
       "| <!--/--> | valeur_estimateur_MC | var | born_inf_IC | born_sup_IC | \n",
       "|---|\n",
       "| 1000 | 0.027      | 0.0262973  | 0.02354116 | 0.03045884 | \n",
       "\n",
       "\n"
      ],
      "text/plain": [
       "     valeur_estimateur_MC var       born_inf_IC born_sup_IC\n",
       "1000 0.027                0.0262973 0.02354116  0.03045884 "
      ]
     },
     "metadata": {},
     "output_type": "display_data"
    },
    {
     "data": {
      "image/png": "[encoded data removed]",
      "text/plain": [
       "Plot with title \"Evolution de l'estimation de Monte Carlo\""
      ]
     },
     "metadata": {},
     "output_type": "display_data"
    }
   ],
   "source": [
    "set.seed(25) ## Pour pouvoir reproduire les résultats \n",
    "\n",
    "## Les arguments sont : \n",
    "## (Nombres dans groupe 1, nombre dans groupe 2, nombre pour quantil empirique, nombre pour MC, niveau quantil)\n",
    "\n",
    "tester_quantil_empirique(79,79,1000,1000,0.025)  \n"
   ]
  },
  {
   "cell_type": "code",
   "execution_count": 17,
   "metadata": {},
   "outputs": [
    {
     "name": "stdout",
     "output_type": "stream",
     "text": [
      "[1] \"Le quantil empirique est : 6837\"\n"
     ]
    },
    {
     "data": {
      "text/html": [
       "<table>\n",
       "<thead><tr><th></th><th scope=col>valeur_estimateur_MC</th><th scope=col>var</th><th scope=col>born_inf_IC</th><th scope=col>born_sup_IC</th></tr></thead>\n",
       "<tbody>\n",
       "\t<tr><th scope=row>1000</th><td>0.974     </td><td>0.02534935</td><td>0.9706041 </td><td>0.9773959 </td></tr>\n",
       "</tbody>\n",
       "</table>\n"
      ],
      "text/latex": [
       "\\begin{tabular}{r|llll}\n",
       "  & valeur\\_estimateur\\_MC & var & born\\_inf\\_IC & born\\_sup\\_IC\\\\\n",
       "\\hline\n",
       "\t1000 & 0.974      & 0.02534935 & 0.9706041  & 0.9773959 \\\\\n",
       "\\end{tabular}\n"
      ],
      "text/markdown": [
       "\n",
       "| <!--/--> | valeur_estimateur_MC | var | born_inf_IC | born_sup_IC | \n",
       "|---|\n",
       "| 1000 | 0.974      | 0.02534935 | 0.9706041  | 0.9773959  | \n",
       "\n",
       "\n"
      ],
      "text/plain": [
       "     valeur_estimateur_MC var        born_inf_IC born_sup_IC\n",
       "1000 0.974                0.02534935 0.9706041   0.9773959  "
      ]
     },
     "metadata": {},
     "output_type": "display_data"
    },
    {
     "data": {
      "image/png": "[encoded data removed]",
      "text/plain": [
       "Plot with title \"Evolution de l'estimation de Monte Carlo\""
      ]
     },
     "metadata": {},
     "output_type": "display_data"
    }
   ],
   "source": [
    "set.seed(25) ## Pour pouvoir reproduire les résultats \n",
    "tester_quantil_empirique(79,79,1000,1000,0.975)  \n"
   ]
  },
  {
   "cell_type": "markdown",
   "metadata": {},
   "source": [
    "## 3 - b)"
   ]
  },
  {
   "cell_type": "code",
   "execution_count": 18,
   "metadata": {
    "collapsed": true
   },
   "outputs": [],
   "source": [
    "## fonction pour obtenir la statistique de Wilcoxon-Mann-Whitney\n",
    "get_stat_Wilcoxon_MW<-function(x,y){\n",
    "    n1=length(x)\n",
    "    n2=length(y)\n",
    "    mu=(n1*(n1+n2+1))/2\n",
    "    sigma=mu*(n2/6)\n",
    "    return ((get_Ranked_R1(x,y)-mu)/sqrt(sigma))\n",
    "}"
   ]
  },
  {
   "cell_type": "code",
   "execution_count": 19,
   "metadata": {
    "collapsed": true
   },
   "outputs": [],
   "source": [
    "## fonction pour obtenir la statistique du Khi 2 d'homogénéité\n",
    "get_stat_Chi2_homogene<-function(x,y,J){\n",
    "    stat<-c()\n",
    "    for (i in 0:(J-1)){\n",
    "        N1=sum((qnorm(i/J)<=x)*(x<qnorm(((i+1)/J))))\n",
    "        N2=sum((qnorm(i/J)<=y)*(y<qnorm(((i+1)/J))))\n",
    "        stat<-c(stat,((N1-N2)^2)/N2)\n",
    "    }\n",
    "    return(sum(stat))\n",
    "}"
   ]
  },
  {
   "cell_type": "code",
   "execution_count": 20,
   "metadata": {
    "collapsed": true
   },
   "outputs": [],
   "source": [
    "## On créé les échantillons WMWi et S_chi_i\n",
    "## Sous H_1 les échantillons suivent des lois différentes\n",
    "J=5\n",
    "chi2_vect<-c()\n",
    "WMW_vect<-c()\n",
    "for (i in 1:1000){\n",
    "    \n",
    "#Sous H_1\n",
    "    Z1<-rnorm(79,0.25,1)\n",
    "    Z2<-rnorm(79,-0.25,1)\n",
    "    \n",
    "    chi2_vect<-c(chi2_vect,get_stat_Chi2_homogene(Z1,Z2,J)) \n",
    "    WMW_vect<-c(WMW_vect,get_stat_Wilcoxon_MW(Z1,Z2))\n",
    "    \n",
    "}"
   ]
  },
  {
   "cell_type": "code",
   "execution_count": 21,
   "metadata": {
    "collapsed": true
   },
   "outputs": [],
   "source": [
    "alpha<-0.05\n",
    "WMW_vect_puiss<-1-(qnorm(alpha/2)<=WMW_vect)*(WMW_vect<qnorm(1-alpha/2))\n",
    "\n",
    "chi2_vect_puiss<-chi2_vect>qchisq(1-alpha,J-1)"
   ]
  },
  {
   "cell_type": "markdown",
   "metadata": {},
   "source": [
    "### Puissance du test de WMW"
   ]
  },
  {
   "cell_type": "code",
   "execution_count": 22,
   "metadata": {},
   "outputs": [
    {
     "data": {
      "text/html": [
       "<table>\n",
       "<thead><tr><th></th><th scope=col>valeur_estimateur_MC</th><th scope=col>var</th><th scope=col>born_inf_IC</th><th scope=col>born_sup_IC</th></tr></thead>\n",
       "<tbody>\n",
       "\t<tr><th scope=row>1000</th><td>0.852    </td><td>0.1262222</td><td>0.8444222</td><td>0.8595778</td></tr>\n",
       "</tbody>\n",
       "</table>\n"
      ],
      "text/latex": [
       "\\begin{tabular}{r|llll}\n",
       "  & valeur\\_estimateur\\_MC & var & born\\_inf\\_IC & born\\_sup\\_IC\\\\\n",
       "\\hline\n",
       "\t1000 & 0.852     & 0.1262222 & 0.8444222 & 0.8595778\\\\\n",
       "\\end{tabular}\n"
      ],
      "text/markdown": [
       "\n",
       "| <!--/--> | valeur_estimateur_MC | var | born_inf_IC | born_sup_IC | \n",
       "|---|\n",
       "| 1000 | 0.852     | 0.1262222 | 0.8444222 | 0.8595778 | \n",
       "\n",
       "\n"
      ],
      "text/plain": [
       "     valeur_estimateur_MC var       born_inf_IC born_sup_IC\n",
       "1000 0.852                0.1262222 0.8444222   0.8595778  "
      ]
     },
     "metadata": {},
     "output_type": "display_data"
    },
    {
     "data": {
      "image/png": "[encoded data removed]",
      "text/plain": [
       "Plot with title \"Evolution de l'estimation de Monte Carlo\""
      ]
     },
     "metadata": {},
     "output_type": "display_data"
    }
   ],
   "source": [
    "MC(WMW_vect_puiss,0.5,1)"
   ]
  },
  {
   "cell_type": "markdown",
   "metadata": {},
   "source": [
    "### Puissance du test chi 2 d'homogénéité"
   ]
  },
  {
   "cell_type": "code",
   "execution_count": 23,
   "metadata": {},
   "outputs": [
    {
     "data": {
      "text/html": [
       "<table>\n",
       "<thead><tr><th></th><th scope=col>valeur_estimateur_MC</th><th scope=col>var</th><th scope=col>born_inf_IC</th><th scope=col>born_sup_IC</th></tr></thead>\n",
       "<tbody>\n",
       "\t<tr><th scope=row>1000</th><td>0.923     </td><td>0.07114214</td><td>0.917311  </td><td>0.928689  </td></tr>\n",
       "</tbody>\n",
       "</table>\n"
      ],
      "text/latex": [
       "\\begin{tabular}{r|llll}\n",
       "  & valeur\\_estimateur\\_MC & var & born\\_inf\\_IC & born\\_sup\\_IC\\\\\n",
       "\\hline\n",
       "\t1000 & 0.923      & 0.07114214 & 0.917311   & 0.928689  \\\\\n",
       "\\end{tabular}\n"
      ],
      "text/markdown": [
       "\n",
       "| <!--/--> | valeur_estimateur_MC | var | born_inf_IC | born_sup_IC | \n",
       "|---|\n",
       "| 1000 | 0.923      | 0.07114214 | 0.917311   | 0.928689   | \n",
       "\n",
       "\n"
      ],
      "text/plain": [
       "     valeur_estimateur_MC var        born_inf_IC born_sup_IC\n",
       "1000 0.923                0.07114214 0.917311    0.928689   "
      ]
     },
     "metadata": {},
     "output_type": "display_data"
    },
    {
     "data": {
      "image/png": "[encoded data removed]",
      "text/plain": [
       "Plot with title \"Evolution de l'estimation de Monte Carlo\""
      ]
     },
     "metadata": {},
     "output_type": "display_data"
    }
   ],
   "source": [
    "MC(chi2_vect_puiss,0.5,1)"
   ]
  },
  {
   "cell_type": "markdown",
   "metadata": {
    "collapsed": true
   },
   "source": [
    "### Nota Bene (ça ne marche pas ...)"
   ]
  },
  {
   "cell_type": "markdown",
   "metadata": {},
   "source": [
    "La statistique du $\\chi^2$ d'adéquation n'est malheureusement pas une $\\chi^2$ a J-1 degrés de liberté comme on l'a pourtant dit ...\n",
    "\n",
    "La moyenne empirique ne converge pas vers la moyenne théorique sous $H_0$ (J-1)"
   ]
  },
  {
   "cell_type": "code",
   "execution_count": 24,
   "metadata": {
    "collapsed": true
   },
   "outputs": [],
   "source": [
    "J=3\n",
    "chi2_vect<-c()\n",
    "for (i in 1:1000){\n",
    "## Sous H_0\n",
    "    Z1<-rnorm(79,0,1)\n",
    "    Z2<-rnorm(79,0,1)\n",
    "     \n",
    "    chi2_vect<-c(chi2_vect,get_stat_Chi2_homogene(Z1,Z2,J))\n",
    "    \n",
    "}"
   ]
  },
  {
   "cell_type": "code",
   "execution_count": 25,
   "metadata": {},
   "outputs": [
    {
     "data": {
      "text/html": [
       "<table>\n",
       "<thead><tr><th></th><th scope=col>valeur_estimateur_MC</th><th scope=col>var</th><th scope=col>born_inf_IC</th><th scope=col>born_sup_IC</th></tr></thead>\n",
       "<tbody>\n",
       "\t<tr><th scope=row>1000</th><td>4.557144</td><td>23.95841</td><td>4.452743</td><td>4.661545</td></tr>\n",
       "</tbody>\n",
       "</table>\n"
      ],
      "text/latex": [
       "\\begin{tabular}{r|llll}\n",
       "  & valeur\\_estimateur\\_MC & var & born\\_inf\\_IC & born\\_sup\\_IC\\\\\n",
       "\\hline\n",
       "\t1000 & 4.557144 & 23.95841 & 4.452743 & 4.661545\\\\\n",
       "\\end{tabular}\n"
      ],
      "text/markdown": [
       "\n",
       "| <!--/--> | valeur_estimateur_MC | var | born_inf_IC | born_sup_IC | \n",
       "|---|\n",
       "| 1000 | 4.557144 | 23.95841 | 4.452743 | 4.661545 | \n",
       "\n",
       "\n"
      ],
      "text/plain": [
       "     valeur_estimateur_MC var      born_inf_IC born_sup_IC\n",
       "1000 4.557144             23.95841 4.452743    4.661545   "
      ]
     },
     "metadata": {},
     "output_type": "display_data"
    },
    {
     "data": {
      "image/png": "[encoded data removed]",
      "text/plain": [
       "Plot with title \"Evolution de l'estimation de Monte Carlo\""
      ]
     },
     "metadata": {},
     "output_type": "display_data"
    }
   ],
   "source": [
    "MC(chi2_vect,0.5,2)"
   ]
  },
  {
   "cell_type": "markdown",
   "metadata": {},
   "source": [
    "Test du $\\chi^2$ pour l'adéquation avec une loi normale "
   ]
  },
  {
   "cell_type": "code",
   "execution_count": 26,
   "metadata": {
    "collapsed": true
   },
   "outputs": [],
   "source": [
    "## fonction pour obtenir la statistique du Khi 2 d'adéquation\n",
    "get_stat_Chi2_adequation<-function(x,J,mu,sigma){\n",
    "    m<-length(x)\n",
    "    stat<-c()\n",
    "    for (i in 0:(J-1)){\n",
    "        N1=sum((qnorm(i/J,mu,sigma)<=x)*(x<qnorm(((i+1)/J),mu,sigma)))\n",
    "        stat<-c(stat,((N1-m/J)^2)/(m/J))\n",
    "    }\n",
    "    return(sum(stat))\n",
    "}"
   ]
  },
  {
   "cell_type": "code",
   "execution_count": 27,
   "metadata": {
    "collapsed": true
   },
   "outputs": [],
   "source": [
    "J=5\n",
    "chi2_vect<-c()\n",
    "for (i in 1:1000){\n",
    "## Sous H_0\n",
    "    Z1<-rnorm(79,0,1)\n",
    "    Z2<-rnorm(79,0,1)\n",
    "     \n",
    "    chi2_vect<-c(chi2_vect,get_stat_Chi2_adequation(c(Z1,Z2),J,0,1))\n",
    "    \n",
    "}"
   ]
  },
  {
   "cell_type": "markdown",
   "metadata": {},
   "source": [
    "Sous $H_0$ il semblerait qu'on a bien une $\\chi^2$ a J-1 degrés de liberté"
   ]
  },
  {
   "cell_type": "code",
   "execution_count": 28,
   "metadata": {},
   "outputs": [
    {
     "data": {
      "text/html": [
       "<table>\n",
       "<thead><tr><th></th><th scope=col>valeur_estimateur_MC</th><th scope=col>var</th><th scope=col>born_inf_IC</th><th scope=col>born_sup_IC</th></tr></thead>\n",
       "<tbody>\n",
       "\t<tr><th scope=row>1000</th><td>3.924051</td><td>7.031411</td><td>3.867492</td><td>3.980609</td></tr>\n",
       "</tbody>\n",
       "</table>\n"
      ],
      "text/latex": [
       "\\begin{tabular}{r|llll}\n",
       "  & valeur\\_estimateur\\_MC & var & born\\_inf\\_IC & born\\_sup\\_IC\\\\\n",
       "\\hline\n",
       "\t1000 & 3.924051 & 7.031411 & 3.867492 & 3.980609\\\\\n",
       "\\end{tabular}\n"
      ],
      "text/markdown": [
       "\n",
       "| <!--/--> | valeur_estimateur_MC | var | born_inf_IC | born_sup_IC | \n",
       "|---|\n",
       "| 1000 | 3.924051 | 7.031411 | 3.867492 | 3.980609 | \n",
       "\n",
       "\n"
      ],
      "text/plain": [
       "     valeur_estimateur_MC var      born_inf_IC born_sup_IC\n",
       "1000 3.924051             7.031411 3.867492    3.980609   "
      ]
     },
     "metadata": {},
     "output_type": "display_data"
    },
    {
     "data": {
      "image/png": "[encoded data removed]",
      "text/plain": [
       "Plot with title \"Evolution de l'estimation de Monte Carlo\""
      ]
     },
     "metadata": {},
     "output_type": "display_data"
    }
   ],
   "source": [
    "MC(chi2_vect,0.5,4)"
   ]
  },
  {
   "cell_type": "markdown",
   "metadata": {},
   "source": [
    "### Puissance du test chi 2 d'adéquation"
   ]
  },
  {
   "cell_type": "markdown",
   "metadata": {},
   "source": [
    "On test aussi la puissance du test d'adéquation "
   ]
  },
  {
   "cell_type": "code",
   "execution_count": 29,
   "metadata": {
    "collapsed": true
   },
   "outputs": [],
   "source": [
    "J=5\n",
    "chi2_vect<-c()\n",
    "for (i in 1:1000){\n",
    "## Sous H_0\n",
    "    Z1<-rnorm(79,0.5,1)\n",
    "    Z2<-rnorm(79,0.25,1)\n",
    "     \n",
    "    chi2_vect<-c(chi2_vect,get_stat_Chi2_adequation(c(Z1,Z2),J,0,1))\n",
    "    \n",
    "}"
   ]
  },
  {
   "cell_type": "code",
   "execution_count": 30,
   "metadata": {
    "collapsed": true
   },
   "outputs": [],
   "source": [
    "alpha<-0.05\n",
    "\n",
    "chi2_vect_puiss<-chi2_vect>qchisq(1-alpha,J-1)"
   ]
  },
  {
   "cell_type": "code",
   "execution_count": 31,
   "metadata": {},
   "outputs": [
    {
     "data": {
      "text/html": [
       "<table>\n",
       "<thead><tr><th></th><th scope=col>valeur_estimateur_MC</th><th scope=col>var</th><th scope=col>born_inf_IC</th><th scope=col>born_sup_IC</th></tr></thead>\n",
       "<tbody>\n",
       "\t<tr><th scope=row>1000</th><td>0.947     </td><td>0.05024124</td><td>0.9422191 </td><td>0.9517809 </td></tr>\n",
       "</tbody>\n",
       "</table>\n"
      ],
      "text/latex": [
       "\\begin{tabular}{r|llll}\n",
       "  & valeur\\_estimateur\\_MC & var & born\\_inf\\_IC & born\\_sup\\_IC\\\\\n",
       "\\hline\n",
       "\t1000 & 0.947      & 0.05024124 & 0.9422191  & 0.9517809 \\\\\n",
       "\\end{tabular}\n"
      ],
      "text/markdown": [
       "\n",
       "| <!--/--> | valeur_estimateur_MC | var | born_inf_IC | born_sup_IC | \n",
       "|---|\n",
       "| 1000 | 0.947      | 0.05024124 | 0.9422191  | 0.9517809  | \n",
       "\n",
       "\n"
      ],
      "text/plain": [
       "     valeur_estimateur_MC var        born_inf_IC born_sup_IC\n",
       "1000 0.947                0.05024124 0.9422191   0.9517809  "
      ]
     },
     "metadata": {},
     "output_type": "display_data"
    },
    {
     "data": {
      "image/png": "[encoded data removed]",
      "text/plain": [
       "Plot with title \"Evolution de l'estimation de Monte Carlo\""
      ]
     },
     "metadata": {},
     "output_type": "display_data"
    }
   ],
   "source": [
    "MC(chi2_vect_puiss,0.5,1)"
   ]
  },
  {
   "cell_type": "markdown",
   "metadata": {},
   "source": [
    "## 4 - Approche naïve des tests multiples "
   ]
  },
  {
   "cell_type": "code",
   "execution_count": null,
   "metadata": {
    "collapsed": true
   },
   "outputs": [],
   "source": []
  },
  {
   "cell_type": "code",
   "execution_count": null,
   "metadata": {
    "collapsed": true
   },
   "outputs": [],
   "source": []
  },
  {
   "cell_type": "markdown",
   "metadata": {},
   "source": [
    "## 5 - Contrôle de la \"Family-Wise Error Rate\""
   ]
  },
  {
   "cell_type": "code",
   "execution_count": null,
   "metadata": {
    "collapsed": true
   },
   "outputs": [],
   "source": []
  },
  {
   "cell_type": "code",
   "execution_count": null,
   "metadata": {
    "collapsed": true
   },
   "outputs": [],
   "source": []
  },
  {
   "cell_type": "code",
   "execution_count": null,
   "metadata": {
    "collapsed": true
   },
   "outputs": [],
   "source": []
  },
  {
   "cell_type": "markdown",
   "metadata": {},
   "source": [
    "## 6 - Procédure de Benjamini-Hochberg "
   ]
  },
  {
   "cell_type": "code",
   "execution_count": 32,
   "metadata": {},
   "outputs": [],
   "source": [
    "Benjami_Hoch<-function(vect_p,alpha){\n",
    "## En input on met la liste des p-valeur (p1,p2,...,pm) non ordonnées\n",
    "    ## cad : pi est la p valuer de la ième hypothèse\n",
    "## Renvoie les numéros des hypothèses qu'on rejette\n",
    "    m=length(vect_p)\n",
    "    df<-data.frame(p_valeurs=vect_p,hypothese_num=c(1:m))\n",
    "    or<-df[order(df$p_valeurs),]\n",
    "    or$rank<-1:m\n",
    "    or$BH<-(alpha*or$rank)/m\n",
    "    k<-max((or$p_valeurs < or$BH )*(or$rank))\n",
    "    \n",
    "    if (k==0){\n",
    "        print(\"On ne rejette aucune hypothèse\")\n",
    "    }\n",
    "    else{\n",
    "        return(or$hypothese_num[1:k][order(or$hypothese_num[1:k])])}\n",
    "}"
   ]
  },
  {
   "cell_type": "code",
   "execution_count": 33,
   "metadata": {
    "collapsed": true
   },
   "outputs": [],
   "source": [
    "p_val_sous_H0<-runif(100)"
   ]
  },
  {
   "cell_type": "code",
   "execution_count": 34,
   "metadata": {},
   "outputs": [
    {
     "name": "stdout",
     "output_type": "stream",
     "text": [
      "[1] \"On ne rejette aucune hypothèse\"\n"
     ]
    }
   ],
   "source": [
    "Benjami_Hoch(p_val_sous_H0,0.75)"
   ]
  },
  {
   "cell_type": "code",
   "execution_count": null,
   "metadata": {
    "collapsed": true
   },
   "outputs": [],
   "source": []
  }
 ],
 "metadata": {
  "kernelspec": {
   "display_name": "R",
   "language": "R",
   "name": "ir"
  },
  "language_info": {
   "codemirror_mode": "r",
   "file_extension": ".r",
   "mimetype": "text/x-r-source",
   "name": "R",
   "pygments_lexer": "r",
   "version": "3.3.2"
  },
  "varInspector": {
   "cols": {
    "lenName": 16,
    "lenType": 16,
    "lenVar": 40
   },
   "kernels_config": {
    "python": {
     "delete_cmd_postfix": "",
     "delete_cmd_prefix": "del ",
     "library": "var_list.py",
     "varRefreshCmd": "print(var_dic_list())"
    },
    "r": {
     "delete_cmd_postfix": ") ",
     "delete_cmd_prefix": "rm(",
     "library": "var_list.r",
     "varRefreshCmd": "cat(var_dic_list()) "
    }
   },
   "types_to_exclude": [
    "module",
    "function",
    "builtin_function_or_method",
    "instance",
    "_Feature"
   ],
   "window_display": false
  }
 },
 "nbformat": 4,
 "nbformat_minor": 2
}
