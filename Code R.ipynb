{
 "cells": [
  {
   "cell_type": "markdown",
   "metadata": {},
   "source": [
    "# Comparaison d’´echantillons et tests multiples -- Code R\n"
   ]
  },
  {
   "cell_type": "markdown",
   "metadata": {},
   "source": [
    "## 3 - Test non paramétrique "
   ]
  },
  {
   "attachments": {},
   "cell_type": "markdown",
   "metadata": {},
   "source": [
    "![title](Consignes-Exo3.png)"
   ]
  },
  {
   "cell_type": "markdown",
   "metadata": {},
   "source": [
    "### 3 - a)"
   ]
  },
  {
   "attachments": {},
   "cell_type": "markdown",
   "metadata": {},
   "source": [
    "On veut : \n",
    "\n",
    "Penser avec Normales générales puis avec les données\n",
    "\n",
    "-Faire une fonction qui plot la fonction de répartition empirique.\n",
    "(-Comparer la fonction de répartition empirique enfonction de différent N ? )\n",
    "-Evolution de q en fonction de N"
   ]
  },
  {
   "cell_type": "code",
   "execution_count": null,
   "metadata": {
    "collapsed": true
   },
   "outputs": [],
   "source": []
  },
  {
   "cell_type": "markdown",
   "metadata": {},
   "source": [
    "## Aide -- Ancien code à moi qui peut nous être utile \n"
   ]
  },
  {
   "cell_type": "code",
   "execution_count": 7,
   "metadata": {
    "collapsed": true
   },
   "outputs": [],
   "source": [
    "##Partie 1\n",
    "\n",
    "ft1 <-function(x,y) {  #f tilde 1\n",
    "  return(exp(-1/2*((x^2)/4+y^2))*(abs(y)<=1))\n",
    "} \n",
    "\n",
    "ft2 <- function(x,y) {  #f tilde 2\n",
    "  return( ((cos(x)^2)+0.5*(sin(3*y)^2)*(cos(x)^4))*exp(-1/2*((x^2)/4+y^2)) )\n",
    "}\n",
    "\n",
    "M1<-4*pi      #Les constantes utilisees pour l'algorithme de rejet\n",
    "M2<-1.5*M1\n",
    "\n",
    "g<- function(x,y){ #Le g qu'on utilise dans l'algorithme de rejet pour f1 et f2\n",
    "  return( 1/(4*pi)*exp((-1/2)*(x^2/4+y^2)) ) #Equivalent : dnorm(x,0,2)*dnorm(y,0,1)\n",
    "}\n",
    "\n",
    "Mu1<-4*sqrt(2*pi)\n",
    "gu<- function(x,y){\n",
    "  return( 1/(4*sqrt(2*pi))*exp((-1/2)*(x^2/4))*(abs(y)<1) )\n",
    "}\n",
    "c1 <- 1/(4*pi*(pnorm(1)-pnorm(-1))) #Constante de normalisation : f1=c1*ft1\n",
    "\n",
    "f1<-function(x,y){\n",
    "  return(c1*ft1(x,y))\n",
    "}\n",
    "\n",
    "dmarginale2f1<- function(x){ #La marginale de f1 selon la deuxieme variable\n",
    "  return(exp(-1/2*(x^2))/(sqrt(2*pi)*(pnorm(1)-pnorm(-1)))*(abs(x)<=1))\n",
    "}\n",
    "\n",
    "##Partie 2\n",
    "\n",
    "h1<- function(x,y) {    # fonction dont on cherche l'esperence par \n",
    "  return(((exp(x)+exp(y))>=5)*1)\n",
    "}\n",
    "\n",
    "h2 <- function(x,y) {   # fonction dont on cherche l'esperence deuxieme cas \n",
    "  return( cos(x*y)*sin(x)*exp(sin(x+y)) ) }\n",
    "\n",
    "\n",
    "##Partie3\n",
    "\n",
    "dmarginale2fR<- function(x,M){ \n",
    "  #La marginale des variables rejetees selon la deuxieme variable (Z2) pour normale \n",
    "  return((M*dnorm(x,0,1)-dmarginale2f1(x))/(M-1))\n",
    "}\n",
    "\n",
    "\n",
    "dmarginale2fRu<- function(x,M){ \n",
    "#La marginale des variables rejetees selon la deuxieme variable\n",
    "  return((M*dunif(x,-1,1)-dmarginale2f1(x))/(M-1))\n",
    "}\n",
    "\n",
    "c3<-1/(4*pi*(pnorm(1)-pnorm(-1)+0.5)) \n",
    "\n",
    "f3 <-function(x,y) {  #f tilde 3 fois sa constante de normalisation\n",
    "  return(c3*exp(-1/2*((x^2)/4+y^2))*((abs(y)<=1)+0.5))\n",
    "} \n",
    "\n",
    "\n",
    "\n",
    "##Partie4\n",
    "\n",
    "alphaMH <- function(f,g,x1,x2,y1,y2){\n",
    "  return(min(1,(f(y1,y2)*g(x1,x2))/(f(x1,x2)*g(y1,y2))))\n",
    "}\n",
    "\n",
    "##General\n",
    "\n",
    "estimVar <- function(x) { #Variance empirique\n",
    "  return(mean(x^2)-(mean(x)^2))\n",
    "}\n",
    "\n",
    "estimVar1 <- function(x) { #Nous donne un vecteur pour voir l'evolution de la variance empirique\n",
    "  return((x-cumsum(x)/1:n)^2)\n",
    "}\n",
    "\n",
    "IC <- function(n,x,s) { #Intervale de confiance de niveau s\n",
    "  return( c(mean(x)-estimVar(x)/sqrt(n)*qnorm(s),mean(x)+estimVar(x)/sqrt(n)*qnorm(s)))\n",
    "}\n",
    "\n",
    "evolE<- function(x){              ##evolution de l'estimateur \n",
    "  return(cumsum(x)/(1:length(x)))\n",
    "}\n",
    "\n",
    "evolIC <- function(x, delta, level) {  ## x<-echantillon de l'estimateur et delta=evolution de l'estimateur\n",
    "  n <- length(x)\n",
    "  s2 <- (cumsum(x^2) - (1:n) * (delta)^2)/(0:(n - 1)) \n",
    "  IC <- qnorm(0.5 * (level + 1)) * sqrt(s2/(1:n))     ##calcul de q* racindeVar \n",
    "  return(data.frame(var = s2, born_inf_IC = delta - IC,born_sup_IC = delta + IC))\n",
    "}"
   ]
  },
  {
   "cell_type": "code",
   "execution_count": 6,
   "metadata": {},
   "outputs": [
    {
     "data": {
      "text/html": [
       "<table>\n",
       "<thead><tr><th></th><th scope=col>value</th><th scope=col>var</th><th scope=col>born_inf_IC</th><th scope=col>born_sup_IC</th></tr></thead>\n",
       "<tbody>\n",
       "\t<tr><th scope=row>10000</th><td>0.2546   </td><td>0.1897978</td><td>0.2460613</td><td>0.2631387</td></tr>\n",
       "</tbody>\n",
       "</table>\n"
      ],
      "text/latex": [
       "\\begin{tabular}{r|llll}\n",
       "  & value & var & born\\_inf\\_IC & born\\_sup\\_IC\\\\\n",
       "\\hline\n",
       "\t10000 & 0.2546    & 0.1897978 & 0.2460613 & 0.2631387\\\\\n",
       "\\end{tabular}\n"
      ],
      "text/markdown": [
       "\n",
       "| <!--/--> | value | var | born_inf_IC | born_sup_IC | \n",
       "|---|\n",
       "| 10000 | 0.2546    | 0.1897978 | 0.2460613 | 0.2631387 | \n",
       "\n",
       "\n"
      ],
      "text/plain": [
       "      value  var       born_inf_IC born_sup_IC\n",
       "10000 0.2546 0.1897978 0.2460613   0.2631387  "
      ]
     },
     "metadata": {},
     "output_type": "display_data"
    },
    {
     "data": {
      "image/png": "[encoded data removed]",
      "text/plain": [
       "Plot with title \"Evolution de l'estimation\""
      ]
     },
     "metadata": {},
     "output_type": "display_data"
    }
   ],
   "source": [
    "n<-10000\n",
    "lev<-0.95 ##niveau de l'intervalle de confiance\n",
    "x<-rejet_g(n,M1,ft1) ## on applique l'algorithme de rejet pour recuperer des echantillons suivant la loi de f1\n",
    "\n",
    "\n",
    "## fonction qui retourne les caracteristiques de l'estimateur + graphe\n",
    "MC <- function(y,lev) {   ##Methode de monte carlo classique\n",
    "  a<-evolE(y)        ## on recupere l'evolution de l'estimateur\n",
    "  b<-evolIC(y,a,lev) ## on recupere l'evolution de l'intervalle de confiance\n",
    "  n<-length(y)\n",
    "  par(mfrow=c(1,1))\n",
    "  plot(1:n, a, type = \"l\", lwd = 2, col = \"violetred3\",main = \"Evolution de l'estimation\", ylim = c(-0.2,0.6), xlab = \"n\",ylab=\"y\")\n",
    "  lines(2:n, b$born_inf_IC[-1], col = \"sienna2\", lwd = 2)\n",
    "  lines(2:n, b$born_sup_IC[-1], col = \"sienna2\", lwd = 2)\n",
    "  legend(\"topright\", c(\"Intervalle de confiance\", \"estimateur\"), lwd = c(2, 1),\n",
    "         col = c(\"sienna2\", \"violetred3\"), inset = 0.05, bg = \"gray95\",\n",
    "         box.lty = 0)\n",
    "  return(data.frame(value=a[n],b[n,]))\n",
    "}\n",
    "\n",
    "\n",
    "## la fonction \"transfo\" permet de d'avoir des simulations de h(X1,X2) ou (X1,X2) a pour densite f1\n",
    "transfo<- function(x,h){   ## on applique la fonction h sur 2 vecteurs\n",
    "  return(h(x[,1],x[,2]))  ## on applique la fonction h a des vecteurs \n",
    "}\n",
    "\n",
    "h1<- function(x,y) {    ## fonction dont on va chercher a estimer l'esperence\n",
    "  return(((exp(x)+exp(y))>=5)*1)\n",
    "}\n",
    "\n",
    "y0<-transfo(x,h1)\n",
    "MC(y0,lev)\n"
   ]
  },
  {
   "cell_type": "code",
   "execution_count": null,
   "metadata": {
    "collapsed": true
   },
   "outputs": [],
   "source": []
  }
 ],
 "metadata": {
  "kernelspec": {
   "display_name": "R",
   "language": "R",
   "name": "ir"
  },
  "language_info": {
   "codemirror_mode": "r",
   "file_extension": ".r",
   "mimetype": "text/x-r-source",
   "name": "R",
   "pygments_lexer": "r",
   "version": "3.3.2"
  },
  "varInspector": {
   "cols": {
    "lenName": 16,
    "lenType": 16,
    "lenVar": 40
   },
   "kernels_config": {
    "python": {
     "delete_cmd_postfix": "",
     "delete_cmd_prefix": "del ",
     "library": "var_list.py",
     "varRefreshCmd": "print(var_dic_list())"
    },
    "r": {
     "delete_cmd_postfix": ") ",
     "delete_cmd_prefix": "rm(",
     "library": "var_list.r",
     "varRefreshCmd": "cat(var_dic_list()) "
    }
   },
   "types_to_exclude": [
    "module",
    "function",
    "builtin_function_or_method",
    "instance",
    "_Feature"
   ],
   "window_display": false
  }
 },
 "nbformat": 4,
 "nbformat_minor": 2
}
